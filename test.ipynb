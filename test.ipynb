{
  "nbformat": 4,
  "nbformat_minor": 5,
  "metadata": {
    "kernel_info": {
      "name": "python3.9-noteable"
    },
    "kernelspec": {
      "display_name": "Python 3.9 (Noteable)",
      "identifier": "noteable",
      "language": "python",
      "language_version": "3.9",
      "name": "python3.9-noteable"
    },
    "selected_hardware_size": "small"
  },
  "cells": [
    {
      "id": "1966bc39",
      "cell_type": "code",
      "metadata": {
        "noteable": {
          "output_collection_id": "f89bf5d6-37d0-436e-a855-9540053f0000"
        },
        "ExecuteTime": {
          "end_time": "2023-12-04T21:27:40.743632+00:00",
          "start_time": "2023-12-04T21:27:40.588391+00:00"
        }
      },
      "execution_count": null,
      "source": "print(\"hello world\")",
      "outputs": []
    }
  ]
}